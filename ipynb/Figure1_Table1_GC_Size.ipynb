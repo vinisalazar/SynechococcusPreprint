{
 "cells": [
  {
   "cell_type": "code",
   "execution_count": 1,
   "metadata": {},
   "outputs": [],
   "source": [
    "from os import path\n",
    "import pandas as pd\n",
    "import seaborn as sns; sns.set()\n",
    "import numpy as np\n",
    "from matplotlib import pyplot as plt\n",
    "from scipy.cluster.vq import vq, kmeans\n",
    "from matplotlib.patches import Patch, Ellipse\n",
    "from matplotlib.lines import Line2D\n",
    "from matplotlib.gridspec import GridSpec\n",
    "plt.style.use('seaborn-dark-palette')"
   ]
  },
  {
   "cell_type": "code",
   "execution_count": 2,
   "metadata": {},
   "outputs": [],
   "source": [
    "# Importing data\n",
    "df = pd.read_csv(\"../data/tables/metadata_table.csv\", sep=\";\")\n",
    "# Converting GC to %\n",
    "df[\"GC\"] = df[\"GC\"].apply(lambda n: n * 100)"
   ]
  },
  {
   "cell_type": "code",
   "execution_count": 3,
   "metadata": {},
   "outputs": [],
   "source": [
    "df[\"Proposed Name\"] = df[\"New_Genus\"] + \" \" + df[\"New_Species\"] + \" \" + df[\"Strain\"]"
   ]
  },
  {
   "cell_type": "code",
   "execution_count": 4,
   "metadata": {},
   "outputs": [],
   "source": [
    "# # Generating Table_S1. Uncomment if you want to overwrite.\n",
    "# df[[\n",
    "#     \"organism_name\",\n",
    "#     \"New_Genus\",\n",
    "#     \"New_Species\",\n",
    "#     \"Strain\",\n",
    "#     \"assembly_accession\",\n",
    "#     \"bioproject\",\n",
    "#     \"biosample\",\n",
    "#     \"Completeness\",\n",
    "#     \"Contamination\",\n",
    "#     \"submitter\",\n",
    "#     \"seq_rel_date\",\n",
    "#     \"Size\",\n",
    "#     \"GC\"\n",
    "# ]].to_csv(\"../data/tables/Table_S1.csv\", index=False)"
   ]
  },
  {
   "cell_type": "code",
   "execution_count": 5,
   "metadata": {},
   "outputs": [],
   "source": [
    "# Adding column of number of genomes per genus and species\n",
    "df[\"No_genus\"] = df.groupby('New_Genus')['New_Genus'].transform('count').map(int, na_action=\"ignore\")\n",
    "df[\"No_species\"] = df.groupby('New_Species')['New_Species'].transform('count').map(int, na_action=\"ignore\")\n",
    "\n",
    "# Adding a formatted name to use in your legends\n",
    "df[\"name_fmt\"] = df[\"New_Genus\"] + \" (\"+ df[\"No_genus\"].map(int, na_action=\"ignore\").map(str) + \")\"\n",
    "df[\"name_fmt\"] = df[\"name_fmt\"].apply(lambda s: s.replace(\".0\", \"\") if type(s) == str else s)"
   ]
  },
  {
   "cell_type": "code",
   "execution_count": 6,
   "metadata": {},
   "outputs": [],
   "source": [
    "def raw(str):\n",
    "    return r'${}$'.format(str)"
   ]
  },
  {
   "cell_type": "code",
   "execution_count": 7,
   "metadata": {},
   "outputs": [],
   "source": [
    "df[\"name_fmt2\"] = df[\"name_fmt\"].apply(lambda s: str(s).replace(\"Synechospongium\", \"Synechospongium\\ \\mathrm{gen. nov.}\"))\n",
    "df[\"name_fmt2\"] = df[\"name_fmt2\"].apply(lambda s: str(s).replace(\"Lacustricoccus\", \"Lacustricoccus\\ \\mathrm{gen. nov.}\"))\n",
    "df[\"name_fmt2\"] = df[\"name_fmt2\"].apply(lambda s: raw(str(s).replace(\" (\", \"\\ (\")))"
   ]
  },
  {
   "cell_type": "code",
   "execution_count": 8,
   "metadata": {},
   "outputs": [],
   "source": [
    "# Applying QC\n",
    "df = df.query(\"Completeness >= 50 & Contamination <= 10 & No_genus > 1\")"
   ]
  },
  {
   "cell_type": "code",
   "execution_count": 11,
   "metadata": {},
   "outputs": [
    {
     "data": {
      "text/plain": [
       "Parasynechococcus      47\n",
       "Pseudosynechococcus    41\n",
       "Synechospongium        28\n",
       "Enugrolinea            12\n",
       "Regnicoccus             9\n",
       "Inmanicoccus            8\n",
       "Leptococcus             8\n",
       "Thermosynechococcus     6\n",
       "Synechococcus           5\n",
       "Magnicoccus             3\n",
       "Lacustricoccus          3\n",
       "Name: New_Genus, dtype: int64"
      ]
     },
     "execution_count": 11,
     "metadata": {},
     "output_type": "execute_result"
    }
   ],
   "source": [
    "df[\"New_Genus\"].value_counts()"
   ]
  },
  {
   "cell_type": "code",
   "execution_count": 19,
   "metadata": {},
   "outputs": [],
   "source": [
    "color_dict = {\n",
    "    \"$Parasynechococcus\\ (47)$\": \"royalblue\",  # blue\n",
    "    \"$Pseudosynechococcus\\ (41)$\": \"royalblue\",\n",
    "    \"$Synechospongium\\ \\mathrm{gen. nov.}\\ (28)$\": \"seagreen\",  # green\n",
    "    \"$Enugrolinea\\ (12)$\":\"mediumpurple\",  # purple\n",
    "    \"$Regnicoccus\\ (9)$\":\"darkturquoise\",  # cyan\n",
    "    \"$Inmanicoccus\\ (8)$\":\"darkturquoise\",\n",
    "    \"$Leptococcus\\ (8)$\":\"mediumpurple\",\n",
    "    \"$Thermosynechococcus\\ (6)$\":\"mediumpurple\",\n",
    "    \"$Synechococcus\\ (5)$\":\"mediumpurple\",\n",
    "    \"$Magnicoccus\\ (3)$\":\"darkturquoise\",\n",
    "    \"$Lacustricoccus\\ \\mathrm{gen. nov.}\\ (3)$\":\"darkturquoise\"\n",
    "}\n",
    "\n",
    "df[\"color\"] = df[\"name_fmt2\"].apply(lambda s: color_dict[s])"
   ]
  },
  {
   "cell_type": "code",
   "execution_count": null,
   "metadata": {},
   "outputs": [],
   "source": [
    "# Large plot\n",
    "fig = plt.figure(figsize=(15, 20))\n",
    "\n",
    "gs = GridSpec(\n",
    "    nrows=3, ncols=2, height_ratios=[1,1,1], wspace=0.05\n",
    ")\n",
    "\n",
    "max_s, min_s, median_s = max_s, min_s, median_s = df[\"Size\"].max(), df[\"Size\"].min(), df[\"Size\"].median()\n",
    "max_gc, min_gc, median_gc = df[\"GC\"].max(), df[\"GC\"].min(), df[\"GC\"].median()\n",
    "order = list(df[\"name_fmt2\"].value_counts().index)\n",
    "filled_markers = ('o', 'v', '^', '<', 'p', '>', 's', 'D', 'd', 'P', 'X', )\n",
    "\n",
    "# Scatter plot\n",
    "ax0 = fig.add_subplot(gs[:2, :])\n",
    "ax0.plot([max_s, min_s], [median_gc, median_gc], color=\"black\", zorder=1)\n",
    "ax0.plot([median_s, median_s], [max_gc, min_gc], color=\"black\", zorder=1)\n",
    "sns.scatterplot(\n",
    "            x=\"Size\",\n",
    "            y=\"GC\",\n",
    "            data=df.sort_values(\n",
    "                by=\"No_genus\", ascending=False\n",
    "            ),\n",
    "            hue=df[\"name_fmt2\"],\n",
    "            style=df[\"name_fmt2\"],\n",
    "            # palette=color_dict,\n",
    "            hue_order=order,\n",
    "            s=100,\n",
    "            zorder=2,\n",
    "            markers=filled_markers,\n",
    "            ax=ax0,\n",
    "        )\n",
    "legend = ax0.legend()\n",
    "legend.texts[0].set_text(\"Genus\")\n",
    "\n",
    "# Size plot\n",
    "ax1 = fig.add_subplot(gs[2, 0])\n",
    "sns.boxplot(\n",
    "    y=\"name_fmt2\",\n",
    "    x=\"Size\",\n",
    "    data=df.sort_values(\n",
    "        by=\"No_genus\", ascending=False\n",
    "    ),\n",
    "    boxprops=dict(alpha=.5),\n",
    "    ax=ax1)\n",
    "sns.swarmplot(\n",
    "    y=\"name_fmt2\",\n",
    "    x=\"Size\",\n",
    "    data=df.sort_values(\n",
    "        by=\"No_genus\", ascending=False\n",
    "    ),\n",
    "        hue=\"name_fmt2\",\n",
    "    alpha=0.7,\n",
    "    zorder=0,\n",
    "    ax=ax1)\n",
    "\n",
    "# GC plot\n",
    "ax2 = fig.add_subplot(gs[2, 1], sharey=ax1)\n",
    "sns.boxplot(\n",
    "    y=\"name_fmt2\",\n",
    "    x=\"GC\",\n",
    "    data=df.sort_values(\n",
    "        by=\"No_genus\", ascending=False\n",
    "    ),\n",
    "    boxprops=dict(alpha=.5),\n",
    "    ax=ax2)\n",
    "sns.swarmplot(\n",
    "    y=\"name_fmt2\",\n",
    "    x=\"GC\",\n",
    "    data=df.sort_values(\n",
    "        by=\"No_genus\", ascending=False)\n",
    "    ,\n",
    "    hue=\"name_fmt2\",\n",
    "    alpha=0.7,\n",
    "    zorder=0,\n",
    "    ax=ax2)\n",
    "\n",
    "\n",
    "# Hiding legends\n",
    "plt.setp(ax2.get_yticklabels(), visible=False)\n",
    "ax1.legend().remove()\n",
    "ax2.legend().remove()\n",
    "ax1.grid(False)\n",
    "ax2.grid(False)\n",
    "\n",
    "# Fixing labels\n",
    "ax0.set_xlabel(\"Size (Mbp)\")\n",
    "ax0.set_ylabel(\"GC content (%)\")\n",
    "ax1.set_xlabel(\"Size (Mbp)\")\n",
    "ax1.set_ylabel(\"\")\n",
    "ax2.set_xlabel(\"GC content (%)\")\n",
    "ax2.set_ylabel(\"\")\n",
    "\n",
    "# plt.savefig(\"../data/plots/Figure_1_concat.png\", dpi=700, bbox_inches=\"tight\",)\n"
   ]
  },
  {
   "cell_type": "code",
   "execution_count": 10,
   "metadata": {},
   "outputs": [],
   "source": [
    "# Basis for Table 1\n",
    "df.groupby(\"New_Genus\").describe().round(2)[[\"Size\", \"GC\"]][\n",
    "    [\n",
    "        (\"Size\", \"mean\"),\n",
    "        (\"Size\", \"std\"),\n",
    "        (\"GC\", \"mean\"),\n",
    "        (\"GC\", \"std\"),\n",
    "        (\"Size\", \"count\"),\n",
    "    ]\n",
    "].sort_values((\"Size\", \"count\"), ascending=False).to_csv(\"../data/tables/Table_1.csv\")\n",
    "\n",
    "# Removing the multiindex\n",
    "!tail -n 11 ../data/tables/Table_1.csv > ../data/tables/Table_1_basis.csv\n",
    "!sed -i '1s/^/Genus,Size mean (Mb),Size std,GC % mean,GC % std,No_genomes\\n/' ../data/tables/Table_1_basis.csv\n",
    "!rm ../data/tables/Table_1.csv"
   ]
  },
  {
   "cell_type": "code",
   "execution_count": 11,
   "metadata": {},
   "outputs": [],
   "source": [
    "# # Creating GToTree input - uncomment if you wish to generate it.\n",
    "# df[\"proteins_file\"].to_csv(\"../data/gtt/gtt_input.csv\", index=False, header=False)\n",
    "# df[\"proteins_file_fmt\"] = df[\"proteins_file\"].apply(lambda s: path.basename(s))\n",
    "# df[[\"proteins_file_fmt\", \"Proposed Name\"]].to_csv(\"../data/gtt/gtt_labels.tsv\", index=False, header=False, sep=\"\\t\")\n",
    "\n",
    "# # Add Prochlorococcus marinus to root the tree (GCA_000007925.1)\n",
    "# !echo \"/home/vini/data/prosyn/processing/prodigal/proteins/GCA_000007925.1_ASM792v1_genomic_prodigal_proteins.faa\" >> ../data/gtt/gtt_input.csv\n",
    "# !echo \"GCA_000007925.1_ASM792v1_genomic_prodigal_proteins.faa\\tProchlorococcus marinus CCMP1375\" >> ../data/gtt/gtt_labels.tsv"
   ]
  }
 ],
 "metadata": {
  "kernelspec": {
   "display_name": "Python 3",
   "language": "python",
   "name": "python3"
  },
  "language_info": {
   "codemirror_mode": {
    "name": "ipython",
    "version": 3
   },
   "file_extension": ".py",
   "mimetype": "text/x-python",
   "name": "python",
   "nbconvert_exporter": "python",
   "pygments_lexer": "ipython3",
   "version": "3.7.6"
  }
 },
 "nbformat": 4,
 "nbformat_minor": 4
}
