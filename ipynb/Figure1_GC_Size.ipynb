{
 "cells": [
  {
   "cell_type": "code",
   "execution_count": 1,
   "metadata": {},
   "outputs": [],
   "source": [
    "from os import path\n",
    "import pandas as pd\n",
    "import seaborn as sns; sns.set()\n",
    "import numpy as np\n",
    "from matplotlib import pyplot as plt\n",
    "from scipy.cluster.vq import vq, kmeans\n",
    "from matplotlib.patches import Patch, Ellipse\n",
    "from matplotlib.lines import Line2D\n",
    "from matplotlib.gridspec import GridSpec\n",
    "plt.style.use('seaborn-dark-palette')"
   ]
  },
  {
   "cell_type": "code",
   "execution_count": 2,
   "metadata": {},
   "outputs": [
    {
     "ename": "FileNotFoundError",
     "evalue": "[Errno 2] File b'../data/tables/new_metadata_table.csv' does not exist: b'../data/tables/new_metadata_table.csv'",
     "output_type": "error",
     "traceback": [
      "\u001b[0;31m---------------------------------------------------------------------------\u001b[0m",
      "\u001b[0;31mFileNotFoundError\u001b[0m                         Traceback (most recent call last)",
      "\u001b[0;32m<ipython-input-2-b8231d958479>\u001b[0m in \u001b[0;36m<module>\u001b[0;34m\u001b[0m\n\u001b[1;32m      1\u001b[0m \u001b[0;31m# Importing data\u001b[0m\u001b[0;34m\u001b[0m\u001b[0;34m\u001b[0m\u001b[0;34m\u001b[0m\u001b[0m\n\u001b[0;32m----> 2\u001b[0;31m \u001b[0mdf\u001b[0m \u001b[0;34m=\u001b[0m \u001b[0mpd\u001b[0m\u001b[0;34m.\u001b[0m\u001b[0mread_csv\u001b[0m\u001b[0;34m(\u001b[0m\u001b[0;34m\"../data/tables/new_metadata_table.csv\"\u001b[0m\u001b[0;34m,\u001b[0m \u001b[0msep\u001b[0m\u001b[0;34m=\u001b[0m\u001b[0;34m\";\"\u001b[0m\u001b[0;34m)\u001b[0m\u001b[0;34m\u001b[0m\u001b[0;34m\u001b[0m\u001b[0m\n\u001b[0m\u001b[1;32m      3\u001b[0m \u001b[0;31m# Converting GC to %\u001b[0m\u001b[0;34m\u001b[0m\u001b[0;34m\u001b[0m\u001b[0;34m\u001b[0m\u001b[0m\n\u001b[1;32m      4\u001b[0m \u001b[0mdf\u001b[0m\u001b[0;34m[\u001b[0m\u001b[0;34m\"GC\"\u001b[0m\u001b[0;34m]\u001b[0m \u001b[0;34m=\u001b[0m \u001b[0mdf\u001b[0m\u001b[0;34m[\u001b[0m\u001b[0;34m\"GC\"\u001b[0m\u001b[0;34m]\u001b[0m\u001b[0;34m.\u001b[0m\u001b[0mapply\u001b[0m\u001b[0;34m(\u001b[0m\u001b[0;32mlambda\u001b[0m \u001b[0mn\u001b[0m\u001b[0;34m:\u001b[0m \u001b[0mn\u001b[0m \u001b[0;34m*\u001b[0m \u001b[0;36m100\u001b[0m\u001b[0;34m)\u001b[0m\u001b[0;34m\u001b[0m\u001b[0;34m\u001b[0m\u001b[0m\n",
      "\u001b[0;32m~/anaconda3/lib/python3.7/site-packages/pandas/io/parsers.py\u001b[0m in \u001b[0;36mparser_f\u001b[0;34m(filepath_or_buffer, sep, delimiter, header, names, index_col, usecols, squeeze, prefix, mangle_dupe_cols, dtype, engine, converters, true_values, false_values, skipinitialspace, skiprows, skipfooter, nrows, na_values, keep_default_na, na_filter, verbose, skip_blank_lines, parse_dates, infer_datetime_format, keep_date_col, date_parser, dayfirst, cache_dates, iterator, chunksize, compression, thousands, decimal, lineterminator, quotechar, quoting, doublequote, escapechar, comment, encoding, dialect, error_bad_lines, warn_bad_lines, delim_whitespace, low_memory, memory_map, float_precision)\u001b[0m\n\u001b[1;32m    683\u001b[0m         )\n\u001b[1;32m    684\u001b[0m \u001b[0;34m\u001b[0m\u001b[0m\n\u001b[0;32m--> 685\u001b[0;31m         \u001b[0;32mreturn\u001b[0m \u001b[0m_read\u001b[0m\u001b[0;34m(\u001b[0m\u001b[0mfilepath_or_buffer\u001b[0m\u001b[0;34m,\u001b[0m \u001b[0mkwds\u001b[0m\u001b[0;34m)\u001b[0m\u001b[0;34m\u001b[0m\u001b[0;34m\u001b[0m\u001b[0m\n\u001b[0m\u001b[1;32m    686\u001b[0m \u001b[0;34m\u001b[0m\u001b[0m\n\u001b[1;32m    687\u001b[0m     \u001b[0mparser_f\u001b[0m\u001b[0;34m.\u001b[0m\u001b[0m__name__\u001b[0m \u001b[0;34m=\u001b[0m \u001b[0mname\u001b[0m\u001b[0;34m\u001b[0m\u001b[0;34m\u001b[0m\u001b[0m\n",
      "\u001b[0;32m~/anaconda3/lib/python3.7/site-packages/pandas/io/parsers.py\u001b[0m in \u001b[0;36m_read\u001b[0;34m(filepath_or_buffer, kwds)\u001b[0m\n\u001b[1;32m    455\u001b[0m \u001b[0;34m\u001b[0m\u001b[0m\n\u001b[1;32m    456\u001b[0m     \u001b[0;31m# Create the parser.\u001b[0m\u001b[0;34m\u001b[0m\u001b[0;34m\u001b[0m\u001b[0;34m\u001b[0m\u001b[0m\n\u001b[0;32m--> 457\u001b[0;31m     \u001b[0mparser\u001b[0m \u001b[0;34m=\u001b[0m \u001b[0mTextFileReader\u001b[0m\u001b[0;34m(\u001b[0m\u001b[0mfp_or_buf\u001b[0m\u001b[0;34m,\u001b[0m \u001b[0;34m**\u001b[0m\u001b[0mkwds\u001b[0m\u001b[0;34m)\u001b[0m\u001b[0;34m\u001b[0m\u001b[0;34m\u001b[0m\u001b[0m\n\u001b[0m\u001b[1;32m    458\u001b[0m \u001b[0;34m\u001b[0m\u001b[0m\n\u001b[1;32m    459\u001b[0m     \u001b[0;32mif\u001b[0m \u001b[0mchunksize\u001b[0m \u001b[0;32mor\u001b[0m \u001b[0miterator\u001b[0m\u001b[0;34m:\u001b[0m\u001b[0;34m\u001b[0m\u001b[0;34m\u001b[0m\u001b[0m\n",
      "\u001b[0;32m~/anaconda3/lib/python3.7/site-packages/pandas/io/parsers.py\u001b[0m in \u001b[0;36m__init__\u001b[0;34m(self, f, engine, **kwds)\u001b[0m\n\u001b[1;32m    893\u001b[0m             \u001b[0mself\u001b[0m\u001b[0;34m.\u001b[0m\u001b[0moptions\u001b[0m\u001b[0;34m[\u001b[0m\u001b[0;34m\"has_index_names\"\u001b[0m\u001b[0;34m]\u001b[0m \u001b[0;34m=\u001b[0m \u001b[0mkwds\u001b[0m\u001b[0;34m[\u001b[0m\u001b[0;34m\"has_index_names\"\u001b[0m\u001b[0;34m]\u001b[0m\u001b[0;34m\u001b[0m\u001b[0;34m\u001b[0m\u001b[0m\n\u001b[1;32m    894\u001b[0m \u001b[0;34m\u001b[0m\u001b[0m\n\u001b[0;32m--> 895\u001b[0;31m         \u001b[0mself\u001b[0m\u001b[0;34m.\u001b[0m\u001b[0m_make_engine\u001b[0m\u001b[0;34m(\u001b[0m\u001b[0mself\u001b[0m\u001b[0;34m.\u001b[0m\u001b[0mengine\u001b[0m\u001b[0;34m)\u001b[0m\u001b[0;34m\u001b[0m\u001b[0;34m\u001b[0m\u001b[0m\n\u001b[0m\u001b[1;32m    896\u001b[0m \u001b[0;34m\u001b[0m\u001b[0m\n\u001b[1;32m    897\u001b[0m     \u001b[0;32mdef\u001b[0m \u001b[0mclose\u001b[0m\u001b[0;34m(\u001b[0m\u001b[0mself\u001b[0m\u001b[0;34m)\u001b[0m\u001b[0;34m:\u001b[0m\u001b[0;34m\u001b[0m\u001b[0;34m\u001b[0m\u001b[0m\n",
      "\u001b[0;32m~/anaconda3/lib/python3.7/site-packages/pandas/io/parsers.py\u001b[0m in \u001b[0;36m_make_engine\u001b[0;34m(self, engine)\u001b[0m\n\u001b[1;32m   1133\u001b[0m     \u001b[0;32mdef\u001b[0m \u001b[0m_make_engine\u001b[0m\u001b[0;34m(\u001b[0m\u001b[0mself\u001b[0m\u001b[0;34m,\u001b[0m \u001b[0mengine\u001b[0m\u001b[0;34m=\u001b[0m\u001b[0;34m\"c\"\u001b[0m\u001b[0;34m)\u001b[0m\u001b[0;34m:\u001b[0m\u001b[0;34m\u001b[0m\u001b[0;34m\u001b[0m\u001b[0m\n\u001b[1;32m   1134\u001b[0m         \u001b[0;32mif\u001b[0m \u001b[0mengine\u001b[0m \u001b[0;34m==\u001b[0m \u001b[0;34m\"c\"\u001b[0m\u001b[0;34m:\u001b[0m\u001b[0;34m\u001b[0m\u001b[0;34m\u001b[0m\u001b[0m\n\u001b[0;32m-> 1135\u001b[0;31m             \u001b[0mself\u001b[0m\u001b[0;34m.\u001b[0m\u001b[0m_engine\u001b[0m \u001b[0;34m=\u001b[0m \u001b[0mCParserWrapper\u001b[0m\u001b[0;34m(\u001b[0m\u001b[0mself\u001b[0m\u001b[0;34m.\u001b[0m\u001b[0mf\u001b[0m\u001b[0;34m,\u001b[0m \u001b[0;34m**\u001b[0m\u001b[0mself\u001b[0m\u001b[0;34m.\u001b[0m\u001b[0moptions\u001b[0m\u001b[0;34m)\u001b[0m\u001b[0;34m\u001b[0m\u001b[0;34m\u001b[0m\u001b[0m\n\u001b[0m\u001b[1;32m   1136\u001b[0m         \u001b[0;32melse\u001b[0m\u001b[0;34m:\u001b[0m\u001b[0;34m\u001b[0m\u001b[0;34m\u001b[0m\u001b[0m\n\u001b[1;32m   1137\u001b[0m             \u001b[0;32mif\u001b[0m \u001b[0mengine\u001b[0m \u001b[0;34m==\u001b[0m \u001b[0;34m\"python\"\u001b[0m\u001b[0;34m:\u001b[0m\u001b[0;34m\u001b[0m\u001b[0;34m\u001b[0m\u001b[0m\n",
      "\u001b[0;32m~/anaconda3/lib/python3.7/site-packages/pandas/io/parsers.py\u001b[0m in \u001b[0;36m__init__\u001b[0;34m(self, src, **kwds)\u001b[0m\n\u001b[1;32m   1915\u001b[0m         \u001b[0mkwds\u001b[0m\u001b[0;34m[\u001b[0m\u001b[0;34m\"usecols\"\u001b[0m\u001b[0;34m]\u001b[0m \u001b[0;34m=\u001b[0m \u001b[0mself\u001b[0m\u001b[0;34m.\u001b[0m\u001b[0musecols\u001b[0m\u001b[0;34m\u001b[0m\u001b[0;34m\u001b[0m\u001b[0m\n\u001b[1;32m   1916\u001b[0m \u001b[0;34m\u001b[0m\u001b[0m\n\u001b[0;32m-> 1917\u001b[0;31m         \u001b[0mself\u001b[0m\u001b[0;34m.\u001b[0m\u001b[0m_reader\u001b[0m \u001b[0;34m=\u001b[0m \u001b[0mparsers\u001b[0m\u001b[0;34m.\u001b[0m\u001b[0mTextReader\u001b[0m\u001b[0;34m(\u001b[0m\u001b[0msrc\u001b[0m\u001b[0;34m,\u001b[0m \u001b[0;34m**\u001b[0m\u001b[0mkwds\u001b[0m\u001b[0;34m)\u001b[0m\u001b[0;34m\u001b[0m\u001b[0;34m\u001b[0m\u001b[0m\n\u001b[0m\u001b[1;32m   1918\u001b[0m         \u001b[0mself\u001b[0m\u001b[0;34m.\u001b[0m\u001b[0munnamed_cols\u001b[0m \u001b[0;34m=\u001b[0m \u001b[0mself\u001b[0m\u001b[0;34m.\u001b[0m\u001b[0m_reader\u001b[0m\u001b[0;34m.\u001b[0m\u001b[0munnamed_cols\u001b[0m\u001b[0;34m\u001b[0m\u001b[0;34m\u001b[0m\u001b[0m\n\u001b[1;32m   1919\u001b[0m \u001b[0;34m\u001b[0m\u001b[0m\n",
      "\u001b[0;32mpandas/_libs/parsers.pyx\u001b[0m in \u001b[0;36mpandas._libs.parsers.TextReader.__cinit__\u001b[0;34m()\u001b[0m\n",
      "\u001b[0;32mpandas/_libs/parsers.pyx\u001b[0m in \u001b[0;36mpandas._libs.parsers.TextReader._setup_parser_source\u001b[0;34m()\u001b[0m\n",
      "\u001b[0;31mFileNotFoundError\u001b[0m: [Errno 2] File b'../data/tables/new_metadata_table.csv' does not exist: b'../data/tables/new_metadata_table.csv'"
     ]
    }
   ],
   "source": [
    "# Importing data\n",
    "df = pd.read_csv(\"../data/tables/metadata_table.csv\", sep=\";\")\n",
    "# Converting GC to %\n",
    "df[\"GC\"] = df[\"GC\"].apply(lambda n: n * 100)"
   ]
  },
  {
   "cell_type": "code",
   "execution_count": null,
   "metadata": {},
   "outputs": [],
   "source": [
    "df[\"Proposed Name\"] = df[\"New_Genus\"] + \" \" + df[\"New_Species\"] + \" \" + df[\"Strain\"]"
   ]
  },
  {
   "cell_type": "code",
   "execution_count": null,
   "metadata": {},
   "outputs": [],
   "source": [
    "# # Generating Table_S1. Uncomment if you want to overwrite.\n",
    "# df[[\n",
    "#     \"organism_name\",\n",
    "#     \"New_Genus\",\n",
    "#     \"New_Species\",\n",
    "#     \"Strain\",\n",
    "#     \"assembly_accession\",\n",
    "#     \"bioproject\",\n",
    "#     \"biosample\",\n",
    "#     \"Completeness\",\n",
    "#     \"Contamination\",\n",
    "#     \"submitter\",\n",
    "#     \"seq_rel_date\",\n",
    "#     \"Size\",\n",
    "#     \"GC\"\n",
    "# ]].to_csv(\"../data/tables/Table_S1.csv\", index=False)"
   ]
  },
  {
   "cell_type": "code",
   "execution_count": null,
   "metadata": {},
   "outputs": [],
   "source": [
    "# Adding column of number of genomes per genus and species\n",
    "df[\"No_genus\"] = df.groupby('New_Genus')['New_Genus'].transform('count').map(int, na_action=\"ignore\")\n",
    "df[\"No_species\"] = df.groupby('New_Species')['New_Species'].transform('count').map(int, na_action=\"ignore\")\n",
    "\n",
    "# Adding a formatted name to use in your legends\n",
    "df[\"name_fmt\"] = df[\"New_Genus\"] + \" (\"+ df[\"No_genus\"].map(int, na_action=\"ignore\").map(str) + \")\"\n",
    "df[\"name_fmt\"] = df[\"name_fmt\"].apply(lambda s: s.replace(\".0\", \"\") if type(s) == str else s)"
   ]
  },
  {
   "cell_type": "code",
   "execution_count": null,
   "metadata": {},
   "outputs": [],
   "source": [
    "def raw(str):\n",
    "    return r'${}$'.format(str)"
   ]
  },
  {
   "cell_type": "code",
   "execution_count": null,
   "metadata": {},
   "outputs": [],
   "source": [
    "df[\"name_fmt2\"] = df[\"name_fmt\"].apply(lambda s: str(s).replace(\"Synechospongium\", \"Synechospongium\\ \\mathrm{gen. nov.}\"))\n",
    "df[\"name_fmt2\"] = df[\"name_fmt2\"].apply(lambda s: str(s).replace(\"Lacustricoccus\", \"Lacustricoccus\\ \\mathrm{gen. nov.}\"))\n",
    "df[\"name_fmt2\"] = df[\"name_fmt2\"].apply(lambda s: raw(str(s).replace(\" (\", \"\\ (\")))"
   ]
  },
  {
   "cell_type": "code",
   "execution_count": null,
   "metadata": {},
   "outputs": [],
   "source": [
    "# Applying QC\n",
    "df = df.query(\"Completeness >= 50 & Contamination <= 10 & No_genus > 1\")"
   ]
  },
  {
   "cell_type": "code",
   "execution_count": null,
   "metadata": {},
   "outputs": [],
   "source": [
    "# Large plot\n",
    "fig = plt.figure(figsize=(15, 20))\n",
    "\n",
    "gs = GridSpec(\n",
    "    nrows=3, ncols=2, height_ratios=[1,1,1], wspace=0.05\n",
    ")\n",
    "\n",
    "max_s, min_s, median_s = max_s, min_s, median_s = df[\"Size\"].max(), df[\"Size\"].min(), df[\"Size\"].median()\n",
    "max_gc, min_gc, median_gc = df[\"GC\"].max(), df[\"GC\"].min(), df[\"GC\"].median()\n",
    "order = list(df[\"name_fmt2\"].value_counts().index)\n",
    "filled_markers = ('o', 'v', '^', '<', 'p', '>', 's', 'D', 'd', 'P', 'X', )\n",
    "\n",
    "# Scatter plot\n",
    "ax0 = fig.add_subplot(gs[:2, :])\n",
    "ax0.plot([max_s, min_s], [median_gc, median_gc], color=\"black\", zorder=1)\n",
    "ax0.plot([median_s, median_s], [max_gc, min_gc], color=\"black\", zorder=1)\n",
    "sns.scatterplot(\n",
    "            x=\"Size\",\n",
    "            y=\"GC\",\n",
    "            data=df.sort_values(\n",
    "                by=\"No_genus\", ascending=False\n",
    "            ),\n",
    "            hue=df[\"name_fmt2\"],\n",
    "            style=df[\"name_fmt2\"],\n",
    "            hue_order=order,\n",
    "            s=100,\n",
    "            zorder=2,\n",
    "            markers=filled_markers,\n",
    "            ax=ax0,\n",
    "        )\n",
    "legend = ax0.legend()\n",
    "legend.texts[0].set_text(\"Genus\")\n",
    "\n",
    "# Size plot\n",
    "ax1 = fig.add_subplot(gs[2, 0])\n",
    "sns.boxplot(\n",
    "    y=\"name_fmt2\",\n",
    "    x=\"Size\",\n",
    "    data=df.sort_values(\n",
    "        by=\"No_genus\", ascending=False\n",
    "    ),\n",
    "    boxprops=dict(alpha=.5),\n",
    "    ax=ax1)\n",
    "sns.swarmplot(\n",
    "    y=\"name_fmt2\",\n",
    "    x=\"Size\",\n",
    "    data=df.sort_values(\n",
    "        by=\"No_genus\", ascending=False\n",
    "    ),\n",
    "        hue=\"name_fmt2\",\n",
    "    alpha=0.7,\n",
    "    zorder=0,\n",
    "    ax=ax1)\n",
    "\n",
    "# GC plot\n",
    "ax2 = fig.add_subplot(gs[2, 1], sharey=ax1)\n",
    "sns.boxplot(\n",
    "    y=\"name_fmt2\",\n",
    "    x=\"GC\",\n",
    "    data=df.sort_values(\n",
    "        by=\"No_genus\", ascending=False\n",
    "    ),\n",
    "    boxprops=dict(alpha=.5),\n",
    "    ax=ax2)\n",
    "sns.swarmplot(\n",
    "    y=\"name_fmt2\",\n",
    "    x=\"GC\",\n",
    "    data=df.sort_values(\n",
    "        by=\"No_genus\", ascending=False)\n",
    "    ,\n",
    "    hue=\"name_fmt2\",\n",
    "    alpha=0.7,\n",
    "    zorder=0,\n",
    "    ax=ax2)\n",
    "\n",
    "\n",
    "# Hiding legends\n",
    "plt.setp(ax2.get_yticklabels(), visible=False)\n",
    "ax1.legend().remove()\n",
    "ax2.legend().remove()\n",
    "ax1.grid(False)\n",
    "ax2.grid(False)\n",
    "\n",
    "# Fixing labels\n",
    "ax0.set_xlabel(\"Size (Mbp)\")\n",
    "ax0.set_ylabel(\"GC content (%)\")\n",
    "ax1.set_xlabel(\"Size (Mbp)\")\n",
    "ax1.set_ylabel(\"\")\n",
    "ax2.set_xlabel(\"GC content (%)\")\n",
    "ax2.set_ylabel(\"\")\n",
    "\n",
    "plt.savefig(\"../data/plots/Figure_1_concat.png\", dpi=700, bbox_inches=\"tight\",)\n"
   ]
  },
  {
   "cell_type": "code",
   "execution_count": null,
   "metadata": {},
   "outputs": [],
   "source": [
    "# Basis for Table 1\n",
    "df.groupby(\"New_Genus\").describe().round(2)[[\"Size\", \"GC\"]][\n",
    "    [\n",
    "        (\"Size\", \"mean\"),\n",
    "        (\"Size\", \"std\"),\n",
    "        (\"GC\", \"mean\"),\n",
    "        (\"GC\", \"std\"),\n",
    "        (\"Size\", \"count\"),\n",
    "    ]\n",
    "].sort_values((\"Size\", \"count\"), ascending=False).to_csv(\"../data/tables/Table_1.csv\")\n",
    "\n",
    "# Removing the multiindex\n",
    "!tail -n 11 ../data/tables/Table_1.csv > ../data/tables/Table_1_basis.csv\n",
    "!sed -i '1s/^/Genus,Size mean (Mb),Size std,GC % mean,GC % std,No_genomes\\n/' ../data/tables/Table_1_basis.csv\n",
    "!rm ../data/tables/Table_1.csv"
   ]
  },
  {
   "cell_type": "code",
   "execution_count": null,
   "metadata": {},
   "outputs": [],
   "source": [
    "# # Creating GToTree input - uncomment if you wish to generate it.\n",
    "# df[\"proteins_file\"].to_csv(\"../data/gtt/gtt_input.csv\", index=False, header=False)\n",
    "# df[\"proteins_file_fmt\"] = df[\"proteins_file\"].apply(lambda s: path.basename(s))\n",
    "# df[[\"proteins_file_fmt\", \"Proposed Name\"]].to_csv(\"../data/gtt/gtt_labels.tsv\", index=False, header=False, sep=\"\\t\")\n",
    "\n",
    "# # Add Prochlorococcus marinus to root the tree (GCA_000007925.1)\n",
    "# !echo \"/home/vini/data/prosyn/processing/prodigal/proteins/GCA_000007925.1_ASM792v1_genomic_prodigal_proteins.faa\" >> ../data/gtt/gtt_input.csv\n",
    "# !echo \"GCA_000007925.1_ASM792v1_genomic_prodigal_proteins.faa\\tProchlorococcus marinus CCMP1375\" >> ../data/gtt/gtt_labels.tsv"
   ]
  }
 ],
 "metadata": {
  "kernelspec": {
   "display_name": "Python 3",
   "language": "python",
   "name": "python3"
  },
  "language_info": {
   "codemirror_mode": {
    "name": "ipython",
    "version": 3
   },
   "file_extension": ".py",
   "mimetype": "text/x-python",
   "name": "python",
   "nbconvert_exporter": "python",
   "pygments_lexer": "ipython3",
   "version": "3.7.4"
  }
 },
 "nbformat": 4,
 "nbformat_minor": 4
}
