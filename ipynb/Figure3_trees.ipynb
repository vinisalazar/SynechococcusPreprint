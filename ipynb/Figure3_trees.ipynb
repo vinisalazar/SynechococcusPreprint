{
 "cells": [
  {
   "cell_type": "code",
   "execution_count": 1,
   "metadata": {},
   "outputs": [],
   "source": [
    "import numpy as np\n",
    "import pandas as pd\n",
    "from os import path\n",
    "from ete3 import Tree, TreeStyle, NodeStyle\n",
    "from PIL import Image"
   ]
  },
  {
   "cell_type": "code",
   "execution_count": 2,
   "metadata": {
    "scrolled": true
   },
   "outputs": [
    {
     "data": {
      "text/plain": [
       "(162, 160)"
      ]
     },
     "execution_count": 2,
     "metadata": {},
     "output_type": "execute_result"
    }
   ],
   "source": [
    "# Read trees\n",
    "t0 = Tree(\"../data/gtt/gtt_cyanobacteria/gtt_cyanobacteria.tre\")\n",
    "t1 = Tree(\"../data/gtt/gtt_bacteria/gtt_bacteria.tre\")\n",
    "\n",
    "t0_leaves = 0\n",
    "t1_leaves = 0\n",
    "\n",
    "for node in t0.traverse():\n",
    "    if node.is_leaf():\n",
    "        t0_leaves += 1\n",
    "\n",
    "for node in t1.traverse():\n",
    "    if node.is_leaf():\n",
    "        t1_leaves += 1\n",
    "        \n",
    "t0_leaves, t1_leaves\n",
    "\n",
    "# I ended up not using the Universal marker set.\n",
    "# t = Tree(\"../data/gtt/gtt_universal/gtt_universal.tre\")"
   ]
  },
  {
   "cell_type": "code",
   "execution_count": 3,
   "metadata": {},
   "outputs": [],
   "source": [
    "# Set colors\n",
    "branco = NodeStyle()\n",
    "azul1, azul2 = NodeStyle(), NodeStyle()\n",
    "azul1[\"bgcolor\"] = \"#D3DBFE\"\n",
    "azul2[\"bgcolor\"] = \"#C0CBFD\"\n",
    "cyan1, cyan2, cyan3 = NodeStyle(), NodeStyle(), NodeStyle()\n",
    "cyan1[\"bgcolor\"] = \"#BFE0E9\"\n",
    "cyan2[\"bgcolor\"] = \"#D4E9EF\"\n",
    "green1 = NodeStyle()\n",
    "green1[\"bgcolor\"] = \"#D0D9C9\"\n",
    "purple1, purple2 = NodeStyle(), NodeStyle()\n",
    "purple1[\"bgcolor\"] = \"#DBC7E4\"\n",
    "purple2[\"bgcolor\"] = \"#E6D9EC\"\n",
    "\n",
    "# Function to enlarge branches\n",
    "def make_branches_bigger(node, new_size):\n",
    "    node.img_style[\"hz_line_width\"] = new_size # Change the horizotal lines stroke size\n",
    "    node.img_style[\"vt_line_width\"] = new_size # Change the vertical lines stroke size\n",
    "    for c in node.children:\n",
    "        make_branches_bigger(c, new_size)\n",
    "\n",
    "# Set our TreeStyle\n",
    "c = TreeStyle()\n",
    "c.mode = \"r\"\n",
    "c.scale = 120\n",
    "c.show_branch_length = True\n",
    "c.show_branch_support = True\n",
    "\n",
    "# Traverse each tree and apply Tree Styles, NodeStyle\n",
    "for t in (t0, t1):\n",
    "    make_branches_bigger(t, 5)\n",
    "    for node in t.traverse():\n",
    "        if node.is_leaf():\n",
    "            node.name = node.name.replace(\"_\", \" \")\n",
    "            if \"nan\" in node.name:\n",
    "                print(node.name)\n",
    "                node.delete()\n",
    "            if \"Pseudosynechococcus\" in node.name:\n",
    "                node.set_style(azul1)\n",
    "            elif \"Parasynechococcus\" in node.name:\n",
    "                node.set_style(azul2)\n",
    "            elif \"Magnicoccus\" in node.name:\n",
    "                node.set_style(cyan1)\n",
    "            elif \"Regnicoccus\" in node.name:\n",
    "                node.set_style(cyan2)\n",
    "            elif \"Lacustricoccus\" in node.name:\n",
    "                node.set_style(cyan2)\n",
    "            elif \"Inmanicoccus\" in node.name:\n",
    "                node.set_style(cyan1)\n",
    "            elif \"Synechospongium\" in node.name:\n",
    "                node.set_style(green1)   \n",
    "            elif \"Enugrolinea\" in node.name:\n",
    "                node.set_style(purple1)    \n",
    "            elif \"Synechococcus\" in node.name:\n",
    "                node.set_style(purple2)            \n",
    "            elif \"Leptococcus\" in node.name:\n",
    "                node.set_style(purple1)\n",
    "            elif \"Thermosynechococcus\" in node.name:\n",
    "                node.set_style(purple2)        \n",
    "            elif \"Prochlorococcus\" in node.name:  # Our root\n",
    "                t.set_outgroup(node)\n",
    "                make_branches_bigger(node, 5)\n",
    "                node.set_style(branco)\n",
    "            elif any((s in node.name for s in (\"Coccusdissimilis\", \"Leptovivax\", \"Stenotopis\", \"Brevicoccus\", \"Lividococcus\"))):\n",
    "                print(node.name)\n",
    "                node.delete()\n",
    "    t.ladderize()\n",
    "\n",
    "\n",
    "# Render Trees\n",
    "r = t0.render(\"../data/plots/Figure_3A_cyanobacterial.png\", tree_style=c, h=2400, w=600, dpi=1000)\n",
    "r = t1.render(\"../data/plots/Figure_3B_bacterial.png\", tree_style=c, h=2400, w=600, dpi=1000)"
   ]
  },
  {
   "cell_type": "code",
   "execution_count": 4,
   "metadata": {},
   "outputs": [
    {
     "name": "stderr",
     "output_type": "stream",
     "text": [
      "<ipython-input-4-0b98ffa84209>:5: FutureWarning: arrays to stack must be passed as a \"sequence\" type such as list or tuple. Support for non-sequence iterables such as generators is deprecated as of NumPy 1.16 and will raise an error in the future.\n",
      "  imgs = np.hstack((np.asarray(i) for i in imgs))\n"
     ]
    }
   ],
   "source": [
    "# Combine trees with Pillow\n",
    "imgs = [\"../data/plots/Figure_3A_cyanobacterial.png\",\n",
    "          \"../data/plots/Figure_3B_bacterial.png\"]\n",
    "imgs = [Image.open(i) for i in imgs]\n",
    "imgs = np.hstack((np.asarray(i) for i in imgs))\n",
    "imgs = Image.fromarray(imgs)\n",
    "imgs.save(\"../data/plots/Figure_3_combined.png\")"
   ]
  }
 ],
 "metadata": {
  "kernelspec": {
   "display_name": "Python [conda env:ete]",
   "language": "python",
   "name": "conda-env-ete-py"
  },
  "language_info": {
   "codemirror_mode": {
    "name": "ipython",
    "version": 3
   },
   "file_extension": ".py",
   "mimetype": "text/x-python",
   "name": "python",
   "nbconvert_exporter": "python",
   "pygments_lexer": "ipython3",
   "version": "3.8.2"
  }
 },
 "nbformat": 4,
 "nbformat_minor": 4
}
