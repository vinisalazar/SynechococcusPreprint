{
 "cells": [
  {
   "cell_type": "code",
   "execution_count": 1,
   "metadata": {},
   "outputs": [],
   "source": [
    "import pandas as pd\n",
    "from os import path\n",
    "from ete3 import Tree, TreeStyle, NodeStyle"
   ]
  },
  {
   "cell_type": "code",
   "execution_count": 18,
   "metadata": {
    "scrolled": true
   },
   "outputs": [],
   "source": [
    "t = Tree(\"../data/gtt/gtt_cyanobacteria/gtt_cyanobacteria.tre\")\n",
    "t = Tree(\"../data/gtt/gtt_bacteria/gtt_bacteria.tre\")\n",
    "\n",
    "# I ended up not using the Universal marker set.\n",
    "\n",
    "t = Tree(\"../data/gtt/gtt_universal/gtt_universal.tre\")"
   ]
  },
  {
   "cell_type": "code",
   "execution_count": 19,
   "metadata": {},
   "outputs": [],
   "source": [
    "md = pd.read_csv(\"../data/tables/metadata_table.csv\", sep=\";\")"
   ]
  },
  {
   "cell_type": "code",
   "execution_count": 20,
   "metadata": {},
   "outputs": [
    {
     "name": "stdout",
     "output_type": "stream",
     "text": [
      "Prochlorococcus marinus CCMP1375\n",
      "162\n"
     ]
    }
   ],
   "source": [
    "branco = NodeStyle()\n",
    "azul1, azul2 = NodeStyle(), NodeStyle()\n",
    "azul1[\"bgcolor\"] = \"#D3DBFE\"\n",
    "azul2[\"bgcolor\"] = \"#C0CBFD\"\n",
    "cyan1, cyan2, cyan3 = NodeStyle(), NodeStyle(), NodeStyle()\n",
    "cyan1[\"bgcolor\"] = \"#BFE0E9\"\n",
    "cyan2[\"bgcolor\"] = \"#D4E9EF\"\n",
    "green1 = NodeStyle()\n",
    "green1[\"bgcolor\"] = \"#D0D9C9\"\n",
    "purple1, purple2 = NodeStyle(), NodeStyle()\n",
    "purple1[\"bgcolor\"] = \"#DBC7E4\"\n",
    "purple2[\"bgcolor\"] = \"#E6D9EC\"\n",
    "\n",
    "\n",
    "def make_branches_bigger(node, new_size):\n",
    "    node.img_style[\"hz_line_width\"] = new_size # Change the horizotal lines stroke size\n",
    "    node.img_style[\"vt_line_width\"] = new_size # Change the vertical lines stroke size\n",
    "    for c in node.children:\n",
    "        make_branches_bigger(c, new_size)\n",
    "\n",
    "make_branches_bigger(t, 5)\n",
    "\n",
    "leaves = 0\n",
    "\n",
    "for node in t.traverse():\n",
    "    if node.is_leaf():\n",
    "        leaves += 1\n",
    "        node.name = node.name.replace(\"_\", \" \")\n",
    "        if \"nan\" in node.name:\n",
    "            print(node.name)\n",
    "            node.delete()\n",
    "        if \"Pseudosynechococcus\" in node.name:\n",
    "            node.set_style(azul1)\n",
    "        elif \"Parasynechococcus\" in node.name:\n",
    "            node.set_style(azul2)\n",
    "        elif \"Magnicoccus\" in node.name:\n",
    "            node.set_style(cyan1)\n",
    "        elif \"Regnicoccus\" in node.name:\n",
    "            node.set_style(cyan2)\n",
    "        elif \"Lacustricoccus\" in node.name:\n",
    "            node.set_style(cyan1)\n",
    "        elif \"Inmanicoccus\" in node.name:\n",
    "            node.set_style(cyan2)\n",
    "        elif \"Synechospongium\" in node.name:\n",
    "            node.set_style(green1)   \n",
    "        elif \"Enugrolinea\" in node.name:\n",
    "            node.set_style(purple1)    \n",
    "        elif \"Synechococcus\" in node.name:\n",
    "            node.set_style(purple2)            \n",
    "        elif \"Leptococcus\" in node.name:\n",
    "            node.set_style(purple2)\n",
    "        elif \"Thermosynechococcus\" in node.name:\n",
    "            node.set_style(purple1)        \n",
    "        elif \"Prochlorococcus\" in node.name:\n",
    "            t.set_outgroup(node)\n",
    "            make_branches_bigger(node, 5)\n",
    "            print(node.name)\n",
    "            node.set_style(branco)\n",
    "        elif any((s in node.name for s in (\"Coccusdissimilis\", \"Leptovivax\", \"Stenotopis\", \"Brevicoccus\", \"Lividococcus\"))):\n",
    "            print(node.name)\n",
    "            node.delete()\n",
    "        \n",
    "\n",
    "print(leaves)"
   ]
  },
  {
   "cell_type": "code",
   "execution_count": 21,
   "metadata": {},
   "outputs": [],
   "source": [
    "c = TreeStyle()\n",
    "c.mode = \"r\"\n",
    "c.scale = 120\n",
    "t.ladderize()\n",
    "t.show(tree_style=c)"
   ]
  },
  {
   "cell_type": "code",
   "execution_count": null,
   "metadata": {},
   "outputs": [],
   "source": []
  }
 ],
 "metadata": {
  "kernelspec": {
   "display_name": "Python [conda env:ete]",
   "language": "python",
   "name": "conda-env-ete-py"
  },
  "language_info": {
   "codemirror_mode": {
    "name": "ipython",
    "version": 3
   },
   "file_extension": ".py",
   "mimetype": "text/x-python",
   "name": "python",
   "nbconvert_exporter": "python",
   "pygments_lexer": "ipython3",
   "version": "3.8.2"
  }
 },
 "nbformat": 4,
 "nbformat_minor": 4
}
