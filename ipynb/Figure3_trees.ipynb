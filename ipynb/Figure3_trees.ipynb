{
 "cells": [
  {
   "cell_type": "code",
   "execution_count": 1,
   "metadata": {},
   "outputs": [],
   "source": [
    "import pandas as pd\n",
    "from os import path\n",
    "from ete3 import Tree, TreeStyle, NodeStyle"
   ]
  },
  {
   "cell_type": "code",
   "execution_count": 7,
   "metadata": {},
   "outputs": [
    {
     "data": {
      "text/plain": [
       "False"
      ]
     },
     "execution_count": 7,
     "metadata": {},
     "output_type": "execute_result"
    }
   ],
   "source": [
    "wd = \"/Users/viniWS/Bio/synecho\"\n",
    "path.isfile(path.join(wd, \"/data/trees/gtt_172_universal_fmt.tre\"))"
   ]
  },
  {
   "cell_type": "code",
   "execution_count": 2,
   "metadata": {
    "scrolled": true
   },
   "outputs": [
    {
     "ename": "NewickError",
     "evalue": "Unexisting tree file or Malformed newick tree structure.\nYou may want to check other newick loading flags like 'format' or 'quoted_node_names'.",
     "output_type": "error",
     "traceback": [
      "\u001b[0;31m---------------------------------------------------------------------------\u001b[0m",
      "\u001b[0;31mNewickError\u001b[0m                               Traceback (most recent call last)",
      "\u001b[0;32m<ipython-input-2-ed54522c7f45>\u001b[0m in \u001b[0;36m<module>\u001b[0;34m\u001b[0m\n\u001b[1;32m      1\u001b[0m \u001b[0mwd\u001b[0m \u001b[0;34m=\u001b[0m \u001b[0;34m\"/Users/viniWS/Bio/synecho\"\u001b[0m\u001b[0;34m\u001b[0m\u001b[0;34m\u001b[0m\u001b[0m\n\u001b[0;32m----> 2\u001b[0;31m \u001b[0mt\u001b[0m \u001b[0;34m=\u001b[0m \u001b[0mTree\u001b[0m\u001b[0;34m(\u001b[0m\u001b[0mpath\u001b[0m\u001b[0;34m.\u001b[0m\u001b[0mjoin\u001b[0m\u001b[0;34m(\u001b[0m\u001b[0mwd\u001b[0m\u001b[0;34m,\u001b[0m \u001b[0;34m\"/data/trees/gtt_172_universal_fmt.tre\"\u001b[0m\u001b[0;34m)\u001b[0m\u001b[0;34m)\u001b[0m\u001b[0;34m\u001b[0m\u001b[0;34m\u001b[0m\u001b[0m\n\u001b[0m\u001b[1;32m      3\u001b[0m \u001b[0;31m#t = Tree(path.join(wd, \"/data/trees/gtt_172_fmt.tre\"))\u001b[0m\u001b[0;34m\u001b[0m\u001b[0;34m\u001b[0m\u001b[0;34m\u001b[0m\u001b[0m\n",
      "\u001b[0;32m~/anaconda3/envs/ete/lib/python3.7/site-packages/ete3/coretype/tree.py\u001b[0m in \u001b[0;36m__init__\u001b[0;34m(self, newick, format, dist, support, name, quoted_node_names)\u001b[0m\n\u001b[1;32m    209\u001b[0m             \u001b[0mself\u001b[0m\u001b[0;34m.\u001b[0m\u001b[0m_dist\u001b[0m \u001b[0;34m=\u001b[0m \u001b[0;36m0.0\u001b[0m\u001b[0;34m\u001b[0m\u001b[0;34m\u001b[0m\u001b[0m\n\u001b[1;32m    210\u001b[0m             read_newick(newick, root_node = self, format=format,\n\u001b[0;32m--> 211\u001b[0;31m                         quoted_names=quoted_node_names)\n\u001b[0m\u001b[1;32m    212\u001b[0m \u001b[0;34m\u001b[0m\u001b[0m\n\u001b[1;32m    213\u001b[0m \u001b[0;34m\u001b[0m\u001b[0m\n",
      "\u001b[0;32m~/anaconda3/envs/ete/lib/python3.7/site-packages/ete3/parser/newick.py\u001b[0m in \u001b[0;36mread_newick\u001b[0;34m(newick, root_node, format, quoted_names)\u001b[0m\n\u001b[1;32m    247\u001b[0m             \u001b[0;32mreturn\u001b[0m \u001b[0m_read_newick_from_string\u001b[0m\u001b[0;34m(\u001b[0m\u001b[0mnw\u001b[0m\u001b[0;34m,\u001b[0m \u001b[0mroot_node\u001b[0m\u001b[0;34m,\u001b[0m \u001b[0mmatcher\u001b[0m\u001b[0;34m,\u001b[0m \u001b[0mformat\u001b[0m\u001b[0;34m,\u001b[0m \u001b[0mquoted_names\u001b[0m\u001b[0;34m)\u001b[0m\u001b[0;34m\u001b[0m\u001b[0;34m\u001b[0m\u001b[0m\n\u001b[1;32m    248\u001b[0m         \u001b[0;32melif\u001b[0m \u001b[0;32mnot\u001b[0m \u001b[0mnw\u001b[0m\u001b[0;34m.\u001b[0m\u001b[0mstartswith\u001b[0m\u001b[0;34m(\u001b[0m\u001b[0;34m'('\u001b[0m\u001b[0;34m)\u001b[0m \u001b[0;32mor\u001b[0m \u001b[0;32mnot\u001b[0m \u001b[0mnw\u001b[0m\u001b[0;34m.\u001b[0m\u001b[0mendswith\u001b[0m\u001b[0;34m(\u001b[0m\u001b[0;34m';'\u001b[0m\u001b[0;34m)\u001b[0m\u001b[0;34m:\u001b[0m\u001b[0;34m\u001b[0m\u001b[0;34m\u001b[0m\u001b[0m\n\u001b[0;32m--> 249\u001b[0;31m             \u001b[0;32mraise\u001b[0m \u001b[0mNewickError\u001b[0m\u001b[0;34m(\u001b[0m\u001b[0;34m'Unexisting tree file or Malformed newick tree structure.'\u001b[0m\u001b[0;34m)\u001b[0m\u001b[0;34m\u001b[0m\u001b[0;34m\u001b[0m\u001b[0m\n\u001b[0m\u001b[1;32m    250\u001b[0m         \u001b[0;32melse\u001b[0m\u001b[0;34m:\u001b[0m\u001b[0;34m\u001b[0m\u001b[0;34m\u001b[0m\u001b[0m\n\u001b[1;32m    251\u001b[0m             \u001b[0;32mreturn\u001b[0m \u001b[0m_read_newick_from_string\u001b[0m\u001b[0;34m(\u001b[0m\u001b[0mnw\u001b[0m\u001b[0;34m,\u001b[0m \u001b[0mroot_node\u001b[0m\u001b[0;34m,\u001b[0m \u001b[0mmatcher\u001b[0m\u001b[0;34m,\u001b[0m \u001b[0mformat\u001b[0m\u001b[0;34m,\u001b[0m \u001b[0mquoted_names\u001b[0m\u001b[0;34m)\u001b[0m\u001b[0;34m\u001b[0m\u001b[0;34m\u001b[0m\u001b[0m\n",
      "\u001b[0;31mNewickError\u001b[0m: Unexisting tree file or Malformed newick tree structure.\nYou may want to check other newick loading flags like 'format' or 'quoted_node_names'."
     ]
    }
   ],
   "source": [
    "wd = \"/Users/viniWS/Bio/synecho\"\n",
    "t = Tree(path.join(wd, \"/data/trees/gtt_172_universal_fmt.tre\"))\n",
    "#t = Tree(path.join(wd, \"/data/trees/gtt_172_fmt.tre\"))"
   ]
  },
  {
   "cell_type": "code",
   "execution_count": 15,
   "metadata": {},
   "outputs": [],
   "source": [
    "md = pd.read_csv(path.join(wd, \"data/Synechococcus_metadata_table.csv\"))"
   ]
  },
  {
   "cell_type": "code",
   "execution_count": 16,
   "metadata": {},
   "outputs": [
    {
     "name": "stdout",
     "output_type": "stream",
     "text": [
      "nan nan AG-670-A19\n",
      "nan nan AG-670-A04\n",
      "nan nan AG-676-E04\n",
      "nan nan AG-676-A03\n",
      "Prochlorococcus marinus CCMP1375\n",
      "nan nan AG-683-A02\n",
      "nan nan TMED66\n",
      "Coccusdissimilis mexicanus PCC 7335\n",
      "Leptovivax bogii PCC 7502\n",
      "Brevicoccus berkleyi PCC 7336\n",
      "Stenotopis californii PCC 6312\n",
      "Lividococcus sp. PCC 6715\n"
     ]
    }
   ],
   "source": [
    "nst0 = NodeStyle()\n",
    "nst1 = NodeStyle()\n",
    "nst1[\"bgcolor\"] = \"#D5E3D3\" # verde\n",
    "nst2 = NodeStyle()\n",
    "nst2[\"bgcolor\"] = \"#F5D2D2\" # vermelho\n",
    "nst3 = NodeStyle()\n",
    "nst3[\"bgcolor\"] = \"LightCyan\" #\"#DFF2F3\" # azul\n",
    "nst4 = NodeStyle()\n",
    "nst4[\"bgcolor\"] = \"#ECD2EF\" # roxo\n",
    "nst5 = NodeStyle()\n",
    "nst5[\"bgcolor\"] = \"#F2F1D4\" # amarelo\n",
    "nst6 = NodeStyle()\n",
    "nst6[\"bgcolor\"] = \"#D1D1D1\" # cinza\n",
    "\n",
    "\n",
    "def make_branches_bigger(node, new_size):\n",
    "    node.img_style[\"hz_line_width\"] = new_size # Change the horizotal lines stroke size\n",
    "    node.img_style[\"vt_line_width\"] = new_size # Change the vertical lines stroke size\n",
    "    for c in node.children:\n",
    "        make_branches_bigger(c, new_size)\n",
    "\n",
    "make_branches_bigger(t, 5)\n",
    "\n",
    "for node in t.traverse():\n",
    "    if node.is_leaf():\n",
    "        if \"nan\" in node.name:\n",
    "            print(node.name)\n",
    "            node.delete()\n",
    "        if \"Pseudosynechococcus\" in node.name:\n",
    "            node.set_style(nst1)\n",
    "        elif \"Parasynechococcus\" in node.name:\n",
    "            node.set_style(nst2)\n",
    "        elif \"Regnicoccus\" in node.name:\n",
    "            node.set_style(nst3)\n",
    "        elif \"Magnicoccus\" in node.name:\n",
    "            node.set_style(nst4)\n",
    "        elif \"Inmanicoccus\" in node.name:\n",
    "            node.set_style(nst5)\n",
    "        elif \"Lacustricoccus\" in node.name:\n",
    "            node.set_style(nst6)\n",
    "        elif \"Synechospongium\" in node.name:\n",
    "            node.set_style(nst1)            \n",
    "        elif \"Synechococcus\" in node.name:\n",
    "            node.set_style(nst3)            \n",
    "        elif \"Enugrolinea\" in node.name:\n",
    "            node.set_style(nst2)    \n",
    "        elif \"Leptococcus\" in node.name:\n",
    "            node.set_style(nst4)                \n",
    "        elif \"Prochlorococcus\" in node.name:\n",
    "            t.set_outgroup(node)\n",
    "            make_branches_bigger(node, 5)\n",
    "            print(node.name)\n",
    "            node.set_style(nst0)\n",
    "        elif any((s in node.name for s in (\"Coccusdissimilis\", \"Leptovivax\", \"Stenotopis\", \"Brevicoccus\", \"Lividococcus\"))):\n",
    "            print(node.name)\n",
    "            node.delete()"
   ]
  },
  {
   "cell_type": "code",
   "execution_count": 17,
   "metadata": {},
   "outputs": [],
   "source": [
    "c = TreeStyle()\n",
    "c.mode = \"r\"\n",
    "c.scale = 120\n",
    "t.show(tree_style=c)"
   ]
  },
  {
   "cell_type": "code",
   "execution_count": null,
   "metadata": {},
   "outputs": [],
   "source": []
  },
  {
   "cell_type": "code",
   "execution_count": null,
   "metadata": {},
   "outputs": [],
   "source": []
  }
 ],
 "metadata": {
  "kernelspec": {
   "display_name": "Python [conda env:ete]",
   "language": "python",
   "name": "conda-env-ete-py"
  },
  "language_info": {
   "codemirror_mode": {
    "name": "ipython",
    "version": 3
   },
   "file_extension": ".py",
   "mimetype": "text/x-python",
   "name": "python",
   "nbconvert_exporter": "python",
   "pygments_lexer": "ipython3",
   "version": "3.7.3"
  }
 },
 "nbformat": 4,
 "nbformat_minor": 4
}
