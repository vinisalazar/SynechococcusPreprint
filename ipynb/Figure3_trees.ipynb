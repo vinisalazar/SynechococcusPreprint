{
 "cells": [
  {
   "cell_type": "code",
   "execution_count": 2,
   "metadata": {},
   "outputs": [],
   "source": [
    "import pandas as pd\n",
    "from os import path\n",
    "from ete3 import Tree, TreeStyle, NodeStyle"
   ]
  },
  {
   "cell_type": "code",
   "execution_count": 3,
   "metadata": {
    "scrolled": true
   },
   "outputs": [],
   "source": [
    "t = Tree(\"../data/gtt/gtt_cyanobacteria/gtt_cyanobacteria.tre\")\n",
    "t_ = Tree(\"../data/gtt/gtt_bacteria/gtt_bacteria.tre\")"
   ]
  },
  {
   "cell_type": "code",
   "execution_count": 5,
   "metadata": {},
   "outputs": [],
   "source": [
    "md = pd.read_csv(\"../data/tables/new_metadata_table.csv\", sep=\";\")"
   ]
  },
  {
   "cell_type": "code",
   "execution_count": 8,
   "metadata": {},
   "outputs": [
    {
     "name": "stdout",
     "output_type": "stream",
     "text": [
      "Prochlorococcus marinus CCMP1375\n"
     ]
    }
   ],
   "source": [
    "nst0 = NodeStyle()\n",
    "nst1 = NodeStyle()\n",
    "nst1[\"bgcolor\"] = \"#D5E3D3\" # verde\n",
    "nst2 = NodeStyle()\n",
    "nst2[\"bgcolor\"] = \"#F5D2D2\" # vermelho\n",
    "nst3 = NodeStyle()\n",
    "nst3[\"bgcolor\"] = \"LightCyan\" #\"#DFF2F3\" # azul\n",
    "nst4 = NodeStyle()\n",
    "nst4[\"bgcolor\"] = \"#ECD2EF\" # roxo\n",
    "nst5 = NodeStyle()\n",
    "nst5[\"bgcolor\"] = \"#F2F1D4\" # amarelo\n",
    "nst6 = NodeStyle()\n",
    "nst6[\"bgcolor\"] = \"#D1D1D1\" # cinza\n",
    "\n",
    "\n",
    "def make_branches_bigger(node, new_size):\n",
    "    node.img_style[\"hz_line_width\"] = new_size # Change the horizotal lines stroke size\n",
    "    node.img_style[\"vt_line_width\"] = new_size # Change the vertical lines stroke size\n",
    "    for c in node.children:\n",
    "        make_branches_bigger(c, new_size)\n",
    "\n",
    "make_branches_bigger(t, 5)\n",
    "\n",
    "for node in t.traverse():\n",
    "    if node.is_leaf():\n",
    "        node.name = node.name.replace(\"_\", \" \")\n",
    "        if \"nan\" in node.name:\n",
    "            print(node.name)\n",
    "            node.delete()\n",
    "        if \"Pseudosynechococcus\" in node.name:\n",
    "            node.set_style(nst1)\n",
    "        elif \"Parasynechococcus\" in node.name:\n",
    "            node.set_style(nst2)\n",
    "        elif \"Regnicoccus\" in node.name:\n",
    "            node.set_style(nst3)\n",
    "        elif \"Magnicoccus\" in node.name:\n",
    "            node.set_style(nst4)\n",
    "        elif \"Inmanicoccus\" in node.name:\n",
    "            node.set_style(nst5)\n",
    "        elif \"Lacustricoccus\" in node.name:\n",
    "            node.set_style(nst6)\n",
    "        elif \"Synechospongium\" in node.name:\n",
    "            node.set_style(nst1)            \n",
    "        elif \"Synechococcus\" in node.name:\n",
    "            node.set_style(nst3)            \n",
    "        elif \"Enugrolinea\" in node.name:\n",
    "            node.set_style(nst2)    \n",
    "        elif \"Leptococcus\" in node.name:\n",
    "            node.set_style(nst4)                \n",
    "        elif \"Prochlorococcus\" in node.name:\n",
    "            t.set_outgroup(node)\n",
    "            make_branches_bigger(node, 5)\n",
    "            print(node.name)\n",
    "            node.set_style(nst0)\n",
    "        elif any((s in node.name for s in (\"Coccusdissimilis\", \"Leptovivax\", \"Stenotopis\", \"Brevicoccus\", \"Lividococcus\"))):\n",
    "            print(node.name)\n",
    "            node.delete()"
   ]
  },
  {
   "cell_type": "code",
   "execution_count": 9,
   "metadata": {},
   "outputs": [],
   "source": [
    "c = TreeStyle()\n",
    "c.mode = \"r\"\n",
    "c.scale = 120\n",
    "t.show(tree_style=c)"
   ]
  },
  {
   "cell_type": "code",
   "execution_count": null,
   "metadata": {},
   "outputs": [],
   "source": []
  },
  {
   "cell_type": "code",
   "execution_count": null,
   "metadata": {},
   "outputs": [],
   "source": []
  }
 ],
 "metadata": {
  "kernelspec": {
   "display_name": "Python [conda env:ete]",
   "language": "python",
   "name": "conda-env-ete-py"
  }
 },
 "nbformat": 4,
 "nbformat_minor": 4
}
