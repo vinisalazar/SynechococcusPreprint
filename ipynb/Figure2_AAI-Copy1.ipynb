{
 "cells": [
  {
   "cell_type": "code",
   "execution_count": 128,
   "metadata": {},
   "outputs": [],
   "source": [
    "import pandas as pd\n",
    "from os import path\n",
    "from matplotlib import rc\n",
    "from matplotlib import pyplot as plt\n",
    "from scipy.spatial.distance import squareform, pdist\n",
    "from scipy.cluster.hierarchy import dendrogram, linkage"
   ]
  },
  {
   "cell_type": "code",
   "execution_count": 134,
   "metadata": {},
   "outputs": [],
   "source": [
    "small_data = \"/home/vini/Bio/ProSyn/data\"\n",
    "aai_file = path.join(small_data, \"aai/synechococcus/aai_summary.tsv\")\n",
    "metadata = pd.read_csv(path.join(small_data, \"Synechococcus_metadata.csv\"))\n",
    "metadata = pd.read_csv(\"/home/vini/Bio/SynechococcusGT/data/new_metadata_table.csv\")\n",
    "df = pd.read_csv(aai_file, sep=\"\\t\")"
   ]
  },
  {
   "cell_type": "code",
   "execution_count": 135,
   "metadata": {},
   "outputs": [],
   "source": [
    "df[\"#Genome A\"] = df[\"#Genome A\"].apply(lambda s: s.split(\"_genomic\")[0])\n",
    "df[\"Genome B\"] = df[\"Genome B\"].apply(lambda s: s.split(\"_genomic\")[0])\n",
    "df_ = df"
   ]
  },
  {
   "cell_type": "code",
   "execution_count": 136,
   "metadata": {},
   "outputs": [],
   "source": [
    "df_ = df_.rename(columns={\"#Genome A\": \"Genome B\", \"Genome B\": \"#Genome A\"})\n",
    "df_t = pd.concat([df, df_], sort=True)"
   ]
  },
  {
   "cell_type": "code",
   "execution_count": 139,
   "metadata": {},
   "outputs": [
    {
     "data": {
      "text/plain": [
       "Index(['assembly_accession', 'bioproject', 'biosample', 'wgs_master',\n",
       "       'excluded_from_refseq', 'refseq_category', 'relation_to_type_material',\n",
       "       'taxid', 'species_taxid', 'organism_name', 'infraspecific_name',\n",
       "       'isolate', 'version_status', 'assembly_level', 'release_type',\n",
       "       'genome_rep', 'seq_rel_date', 'asm_name', 'submitter',\n",
       "       'gbrs_paired_asm', 'paired_asm_comp', 'ftp_path', 'filename',\n",
       "       'Completeness', 'Contamination', 'directory', 'contigs_file',\n",
       "       'proteins_file', 'genes_file', 'Size', 'GC', 'New_Genus', 'New_Species',\n",
       "       'Strain'],\n",
       "      dtype='object')"
      ]
     },
     "execution_count": 139,
     "metadata": {},
     "output_type": "execute_result"
    }
   ],
   "source": [
    "metadata.columns"
   ]
  },
  {
   "cell_type": "code",
   "execution_count": 140,
   "metadata": {},
   "outputs": [],
   "source": [
    "renaming_dict = dict()\n",
    "for filename, genus, species, strain, organism_name, assembly in zip(\n",
    "    metadata[\"filename\"], metadata[\"New_Genus\"], metadata[\"New_Species\"],\n",
    "    metadata[\"Strain\"], metadata[\"organism_name\"], metadata[\"assembly_accession\"]\n",
    "):\n",
    "    if type(genus) == str:\n",
    "        renaming_dict[filename] = \" \".join((genus, species, strain))\n",
    "    else:\n",
    "        renaming_dict[filename] = \" \".join((organism_name, assembly))"
   ]
  },
  {
   "cell_type": "code",
   "execution_count": 141,
   "metadata": {},
   "outputs": [],
   "source": [
    "table = pd.pivot_table(\n",
    "    df_t,\n",
    "    values=\"Mean AAI\",\n",
    "    index = (\"#Genome A\"),\n",
    "    columns = (\"Genome B\")\n",
    ")\n",
    "\n",
    "table = table.fillna(value=99.99)\n",
    "\n",
    "qc_filter = [i for i in metadata.query(\"Completeness >= 50 & Contamination <= 5\")[\"filename\"] if i in table.columns]\n",
    "\n",
    "table = table[qc_filter].loc[qc_filter]\n",
    "\n",
    "table.rename(columns = renaming_dict, index=renaming_dict, inplace=True)"
   ]
  },
  {
   "cell_type": "code",
   "execution_count": 143,
   "metadata": {},
   "outputs": [],
   "source": [
    "X = abs(table - 99.99)\n",
    "X = squareform(X)\n",
    "Z = linkage(X,\n",
    "            method=\"complete\",\n",
    "            metric=\"cityblock\",\n",
    "            optimal_ordering=True\n",
    "           )"
   ]
  },
  {
   "cell_type": "code",
   "execution_count": null,
   "metadata": {},
   "outputs": [],
   "source": [
    "def augmented_dendrogram(*args, **kwargs):\n",
    "\n",
    "    ddata = dendrogram(*args, **kwargs)\n",
    "\n",
    "    if not kwargs.get('no_plot', False):\n",
    "        for i, d in zip(ddata['icoord'], ddata['dcoord']):\n",
    "            x = 0.5 * sum(i[1:3])\n",
    "            y = d[1]\n",
    "            if y > 1.5:\n",
    "                plt.plot(x, y, 'ro')\n",
    "                plt.annotate(\"%.3g\" % y, (x, y), xytext=(0, -8),\n",
    "                         textcoords='offset points',\n",
    "                         va='top', ha='center')\n",
    "\n",
    "    return ddata\n",
    "\n",
    "fig = plt.figure(figsize=(60, 15))\n",
    "\n",
    "dn = augmented_dendrogram(Z,\n",
    "                          labels = table.columns,\n",
    "                          leaf_rotation=-90,\n",
    "                          color_threshold=30,\n",
    "                          leaf_font_size=9,\n",
    "                         )\n",
    "\n",
    "plt.savefig(path.join(small_data, \"aai/plots/synechococcus_q50.png\"), dpi=700, bbox_inches=\"tight\")"
   ]
  }
 ],
 "metadata": {
  "kernelspec": {
   "display_name": "Python 3",
   "language": "python",
   "name": "python3"
  },
  "language_info": {
   "codemirror_mode": {
    "name": "ipython",
    "version": 3
   },
   "file_extension": ".py",
   "mimetype": "text/x-python",
   "name": "python",
   "nbconvert_exporter": "python",
   "pygments_lexer": "ipython3",
   "version": "3.7.4"
  }
 },
 "nbformat": 4,
 "nbformat_minor": 2
}
