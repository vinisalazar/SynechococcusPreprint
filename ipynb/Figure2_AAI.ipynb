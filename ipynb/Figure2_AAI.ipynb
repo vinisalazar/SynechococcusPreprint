{
 "cells": [
  {
   "cell_type": "code",
   "execution_count": 1,
   "metadata": {},
   "outputs": [],
   "source": [
    "import pandas as pd\n",
    "import seaborn as sns\n",
    "from os import path\n",
    "from matplotlib import rc\n",
    "from matplotlib import pyplot as plt\n",
    "from scipy.spatial.distance import squareform, pdist\n",
    "from scipy.cluster.hierarchy import dendrogram, linkage\n",
    "\n",
    "plt.style.use(\"default\")"
   ]
  },
  {
   "cell_type": "code",
   "execution_count": 2,
   "metadata": {},
   "outputs": [],
   "source": [
    "wd = \"/Users/viniWS/Bio/synecho\"\n",
    "aai_file = path.join(wd, \"data/aai/aai_summary.tsv\")\n",
    "df = pd.read_csv(aai_file, sep=\"\\t\")\n",
    "metadata = pd.read_csv(path.join(wd, \"data/Synechococcus_metadata_table.csv\"))\n",
    "df[\"Genome A\"] = df[\"Genome A\"].apply(lambda s: s.split(\"_genomic\")[0])\n",
    "df[\"Genome B\"] = df[\"Genome B\"].apply(lambda s: s.split(\"_genomic\")[0])\n",
    "df_ = df"
   ]
  },
  {
   "cell_type": "code",
   "execution_count": 3,
   "metadata": {},
   "outputs": [],
   "source": [
    "metadata[\"No_genus\"] = metadata.groupby('New_Genus')['New_Genus'].transform('count').map(int, na_action=\"ignore\")"
   ]
  },
  {
   "cell_type": "code",
   "execution_count": 4,
   "metadata": {},
   "outputs": [],
   "source": [
    "df_ = df_.rename(columns={\"Genome A\": \"Genome B\", \"Genome B\": \"Genome A\"})\n",
    "df_t = pd.concat([df, df_], sort=True)"
   ]
  },
  {
   "cell_type": "code",
   "execution_count": 5,
   "metadata": {},
   "outputs": [],
   "source": [
    "metadata[\"New_Species\"] = metadata[\"New_Species\"].apply(lambda s: \"\\mathrm{\" + s + \"}\" if s == \"sp.\" else s)"
   ]
  },
  {
   "cell_type": "code",
   "execution_count": 6,
   "metadata": {},
   "outputs": [],
   "source": [
    "metadata[\"New_Name\"] = metadata.apply(\n",
    "    lambda row: \" \".join(\n",
    "        [\n",
    "            row[\"New_Genus\"],\n",
    "            row[\"New_Species\"],\n",
    "            row[\"Strain\"],\n",
    "            # \"(\" + str(row[\"Completeness\"]) + \"%)\"\n",
    "        ]\n",
    "    ) if type(row[\"New_Genus\"]) != float else \\\n",
    "    row[\"Organism\"].replace(\"_\", \" \"), axis=1)"
   ]
  },
  {
   "cell_type": "code",
   "execution_count": 7,
   "metadata": {},
   "outputs": [],
   "source": [
    "def raw(str):\n",
    "    return r'${}$'.format(str)"
   ]
  },
  {
   "cell_type": "code",
   "execution_count": 8,
   "metadata": {},
   "outputs": [],
   "source": [
    "metadata[\"New_Name_2\"] = metadata.apply(lambda row: (\"\\ \").join(\n",
    "    [\n",
    "        row[\"New_Genus\"],\n",
    "        row[\"New_Species\"],\n",
    "        \"\\mathrm{\" + row[\"Strain\"] + \"}\",\n",
    "        row[\"TypeSpecies\"].replace(\n",
    "            \"yes\", \"_T\"\n",
    "        ).replace(\"no\", \"\")]) if type(row[\"New_Genus\"]) != float and type(row[\"TypeSpecies\"]) != float else row[\"Organism\"].replace(\"_\", \" \"), axis=1)"
   ]
  },
  {
   "cell_type": "code",
   "execution_count": 9,
   "metadata": {},
   "outputs": [],
   "source": [
    "metadata[\"New_Name_2\"] = metadata[\"New_Name_2\"].apply(lambda s: raw(s))"
   ]
  },
  {
   "cell_type": "code",
   "execution_count": 10,
   "metadata": {},
   "outputs": [],
   "source": [
    "renaming_dict = dict()\n",
    "for index, row in metadata.iterrows():\n",
    "    renaming_dict[row[\"FileName\"]] = row[\"New_Name_2\"]"
   ]
  },
  {
   "cell_type": "code",
   "execution_count": 11,
   "metadata": {},
   "outputs": [],
   "source": [
    "table = pd.pivot_table(df_t, values=\"Mean AAI\", index = (\"Genome A\"), columns = (\"Genome B\"))\n",
    "\n",
    "table = table.fillna(value=99.99)\n",
    "\n",
    "table.rename(columns = renaming_dict, index=renaming_dict, inplace=True)"
   ]
  },
  {
   "cell_type": "code",
   "execution_count": 12,
   "metadata": {},
   "outputs": [],
   "source": [
    "# We'll only include genomes with at least 1 mbp (Size) and 50% completeness\n",
    "filter_ = metadata[\n",
    "    (metadata.Completeness > 50.0) &\n",
    "    (metadata.Size > 1) &\n",
    "    (metadata[\"No_genus\"] > 1)][\"New_Name_2\"]"
   ]
  },
  {
   "cell_type": "code",
   "execution_count": 13,
   "metadata": {},
   "outputs": [],
   "source": [
    "filter_.shape\n",
    "table_filtered = table.loc[filter_, filter_]"
   ]
  },
  {
   "cell_type": "code",
   "execution_count": 14,
   "metadata": {
    "scrolled": true
   },
   "outputs": [],
   "source": [
    "table_filtered = table.loc[filter_, filter_]\n",
    "table_filtered.rename(columns=dict(zip(filter_, filter_.apply(lambda s: s.replace(\"_\", \" \")))), index=dict(zip(filter_, filter_.apply(lambda s: s.replace(\"_\", \" \")))))\n",
    "X = abs(table_filtered - 99.99)\n",
    "X = squareform(X)\n",
    "Z = linkage(X, method=\"complete\", metric=\"cityblock\", optimal_ordering=True)"
   ]
  },
  {
   "cell_type": "code",
   "execution_count": null,
   "metadata": {},
   "outputs": [],
   "source": [
    "def augmented_dendrogram(*args, **kwargs):\n",
    "\n",
    "    ddata = dendrogram(*args, **kwargs)\n",
    "\n",
    "    if not kwargs.get('no_plot', False):\n",
    "        for i, d in zip(ddata['icoord'], ddata['dcoord']):\n",
    "            x = 0.5 * sum(i[1:3])\n",
    "            y = d[1]\n",
    "            if y > 1.5:\n",
    "                plt.plot(x, y, 'ro')\n",
    "                plt.annotate(\"%.3g\" % y, (x, y), xytext=(0, -8),\n",
    "                         textcoords='offset points',\n",
    "                         va='top', ha='center')\n",
    "\n",
    "    return ddata\n",
    "\n",
    "fig = plt.figure(figsize=(40, 15))\n",
    "\n",
    "dn = augmented_dendrogram(Z, labels = table_filtered.columns, leaf_rotation=-90, color_threshold=30, leaf_font_size=12)\n",
    "\n",
    "#plt.savefig(path.join(wd, \"data/finais/aai_default_species.png\"), dpi=700, bbox_inches=\"tight\")"
   ]
  }
 ],
 "metadata": {
  "kernelspec": {
   "display_name": "Python [conda env:py3]",
   "language": "python",
   "name": "conda-env-py3-py"
  },
  "language_info": {
   "codemirror_mode": {
    "name": "ipython",
    "version": 3
   },
   "file_extension": ".py",
   "mimetype": "text/x-python",
   "name": "python",
   "nbconvert_exporter": "python",
   "pygments_lexer": "ipython3",
   "version": "3.8.2"
  }
 },
 "nbformat": 4,
 "nbformat_minor": 4
}
