{
 "cells": [
  {
   "cell_type": "code",
   "execution_count": 1,
   "metadata": {},
   "outputs": [],
   "source": [
    "import numpy as np\n",
    "import pandas as pd\n",
    "import matplotlib as mpl\n",
    "from matplotlib import pyplot as plt\n",
    "from sklearn.datasets.samples_generator import make_blobs\n",
    "from sklearn.cluster import KMeans"
   ]
  },
  {
   "cell_type": "code",
   "execution_count": 2,
   "metadata": {},
   "outputs": [],
   "source": [
    "data = pd.read_csv(\"../data/tables/cog/CyCOG_binary_95_completeness.csv\")\n",
    "data.set_index(\"name\", inplace=True)\n",
    "mat = data.values"
   ]
  },
  {
   "cell_type": "code",
   "execution_count": 3,
   "metadata": {},
   "outputs": [],
   "source": [
    "for k in range(2, 12):\n",
    "    km = KMeans(n_clusters=k)\n",
    "    km.fit(mat)\n",
    "    labels = km.labels_\n",
    "    results = pd.DataFrame([data.index, labels]).T\n",
    "    results.columns=(\"Genome\", \"K-group\")\n",
    "    results.sort_values([\"K-group\", \"Genome\"], inplace=True)\n",
    "    # results.to_csv(f\"../data/tables/kmeans/{k}-means-allCOGs.csv\", index=False)"
   ]
  },
  {
   "cell_type": "code",
   "execution_count": null,
   "metadata": {},
   "outputs": [],
   "source": [
    "wcss = []\n",
    "for i in range(1, 90):\n",
    "    kmeans = KMeans(n_clusters=i, init='k-means++', max_iter=300, n_init=10, random_state=0)\n",
    "    kmeans.fit(mat)\n",
    "    wcss.append(kmeans.inertia_)\n",
    "plt.plot(range(1, 90), wcss)\n",
    "plt.title('Elbow Method')\n",
    "plt.xlabel('Number of clusters')\n",
    "plt.ylabel('WCSS')\n",
    "plt.show()"
   ]
  },
  {
   "cell_type": "code",
   "execution_count": null,
   "metadata": {},
   "outputs": [],
   "source": [
    "plot_file = \"../data/tables/cog/CyCOG_binary_95_completeness.csv\"\n",
    "plot_table = pd.read_csv(plot_file, index_col=\"name\")"
   ]
  },
  {
   "cell_type": "code",
   "execution_count": null,
   "metadata": {},
   "outputs": [],
   "source": [
    "fig, ax = plt.subplots(figsize=(50, 15))\n",
    "\n",
    "cmap = mpl.colors.ListedColormap(['w', 'b'])\n",
    "bounds = [0., 0.5, 1.]\n",
    "norm = mpl.colors.BoundaryNorm(bounds, cmap.N)\n",
    "\n",
    "ax.imshow(plot_table, interpolation='none', cmap=cmap, norm=norm, aspect=\"auto\")\n",
    "yticks = plt.yticks(range(plot_table.shape[0]), plot_table.index)\n",
    "\n",
    "# Uncomment this if you wish COG names in the xticks\n",
    "xticks = plt.xticks(range(plot_table.shape[1]), plot_table.columns, rotation=90)\n",
    "\n",
    "# Uncomment to save\n",
    "plt.savefig(\"../data/plots/CyCOG_presence_absence.png\", dpi=300, bbox_inches='tight')"
   ]
  },
  {
   "cell_type": "code",
   "execution_count": null,
   "metadata": {},
   "outputs": [],
   "source": []
  }
 ],
 "metadata": {
  "kernelspec": {
   "display_name": "Python 3",
   "language": "python",
   "name": "python3"
  },
  "language_info": {
   "codemirror_mode": {
    "name": "ipython",
    "version": 3
   },
   "file_extension": ".py",
   "mimetype": "text/x-python",
   "name": "python",
   "nbconvert_exporter": "python",
   "pygments_lexer": "ipython3",
   "version": "3.7.4"
  }
 },
 "nbformat": 4,
 "nbformat_minor": 2
}
