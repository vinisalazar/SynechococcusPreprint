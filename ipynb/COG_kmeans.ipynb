{
 "cells": [
  {
   "cell_type": "code",
   "execution_count": 14,
   "metadata": {},
   "outputs": [],
   "source": [
    "import numpy as np\n",
    "import pandas as pd\n",
    "import matplotlib as mpl\n",
    "from matplotlib import pyplot as plt\n",
    "from sklearn.datasets.samples_generator import make_blobs\n",
    "from sklearn.cluster import KMeans"
   ]
  },
  {
   "cell_type": "code",
   "execution_count": 15,
   "metadata": {},
   "outputs": [],
   "source": [
    "data = pd.read_csv(\"../data/tables/cog/CyCOG_binary_95_completeness.csv\")\n",
    "data.set_index(\"name\", inplace=True)\n",
    "mat = data.values"
   ]
  },
  {
   "cell_type": "code",
   "execution_count": 16,
   "metadata": {},
   "outputs": [],
   "source": [
    "for k in range(2, 12):\n",
    "    km = KMeans(n_clusters=k)\n",
    "    km.fit(mat)\n",
    "    labels = km.labels_\n",
    "    results = pd.DataFrame([data.index, labels]).T\n",
    "    results.columns=(\"Genome\", \"K-group\")\n",
    "    results.sort_values([\"K-group\", \"Genome\"], inplace=True)\n",
    "    results.to_csv(f\"../data/tables/kmeans/{k}-means-allCOGs.csv\", index=False)"
   ]
  },
  {
   "cell_type": "code",
   "execution_count": 18,
   "metadata": {},
   "outputs": [
    {
     "data": {
      "image/png": "[encoded data removed]",
      "text/plain": [
       "<Figure size 432x288 with 1 Axes>"
      ]
     },
     "metadata": {
      "needs_background": "light"
     },
     "output_type": "display_data"
    }
   ],
   "source": [
    "wcss = []\n",
    "for i in range(1, 12):  # 11 is the number of genera\n",
    "    kmeans = KMeans(n_clusters=i, init='k-means++', max_iter=300, n_init=10, random_state=0)\n",
    "    kmeans.fit(mat)\n",
    "    wcss.append(kmeans.inertia_)\n",
    "plt.plot(range(1, 12), wcss)\n",
    "plt.title('Elbow Method')\n",
    "plt.xlabel('Number of clusters')\n",
    "plt.ylabel('WCSS')\n",
    "plt.show()"
   ]
  },
  {
   "cell_type": "code",
   "execution_count": null,
   "metadata": {},
   "outputs": [],
   "source": [
    "plot_file = \"../data/tables/cog/CyCOG_binary_95_completeness.csv\"\n",
    "plot_table = pd.read_csv(plot_file, index_col=\"name\")"
   ]
  },
  {
   "cell_type": "code",
   "execution_count": null,
   "metadata": {},
   "outputs": [],
   "source": [
    "fig, ax = plt.subplots(figsize=(50, 15))\n",
    "\n",
    "cmap = mpl.colors.ListedColormap(['w', 'b'])\n",
    "bounds = [0., 0.5, 1.]\n",
    "norm = mpl.colors.BoundaryNorm(bounds, cmap.N)\n",
    "\n",
    "ax.imshow(plot_table, interpolation='none', cmap=cmap, norm=norm, aspect=\"auto\")\n",
    "yticks = plt.yticks(range(plot_table.shape[0]), plot_table.index)\n",
    "\n",
    "# Uncomment this if you wish COG names in the xticks\n",
    "xticks = plt.xticks(range(plot_table.shape[1]), plot_table.columns, rotation=90)\n",
    "\n",
    "# Uncomment to save\n",
    "plt.savefig(\"../data/plots/CyCOG_presence_absence.png\", dpi=300, bbox_inches='tight')"
   ]
  },
  {
   "cell_type": "code",
   "execution_count": 53,
   "metadata": {},
   "outputs": [],
   "source": [
    "# Reading data into a single df\n",
    "tables = dict()\n",
    "for k in (2, 3, 4):\n",
    "    tables[k] = pd.read_csv(f\"../data/tables/kmeans/{k}-means-CyCOGs.csv\")\n",
    "COG_df = tables[2].merge(\n",
    "    tables[3], on=\"Genome\").merge(\n",
    "    tables[4], on=\"Genome\")\n",
    "COG_df.columns=(\"Genome\", \"2-means\", \"3-means\", \"4-means\")\n",
    "\n",
    "# Translating cluster number into ecological groups\n",
    "trans = {\n",
    "    \"2-means\": {\n",
    "        0: \"Seawater\",\n",
    "        1: \"Freshwater/Thermal\"\n",
    "    },\n",
    "    \"3-means\": {\n",
    "        0: \"Seawater\",\n",
    "        1: \"Symbiont\",\n",
    "        2: \"Freshwater/Thermal\"\n",
    "    },\n",
    "    \"4-means\": {\n",
    "        0: \"Thermal\",\n",
    "        1: \"Seawater\",\n",
    "        2: \"Symbiont\",\n",
    "        3: \"Freshwater\"\n",
    "    },\n",
    "}\n",
    "\n",
    "for k in (2, 3, 4):\n",
    "    COG_df[f\"{k}-means\"] = COG_df[f\"{k}-means\"].apply(lambda n: trans[f\"{k}-means\"][n])\n",
    "    \n",
    "COG_df[\"Genus\"] = COG_df[\"Genome\"].apply(lambda s: s.split()[0])"
   ]
  },
  {
   "cell_type": "code",
   "execution_count": 105,
   "metadata": {},
   "outputs": [],
   "source": [
    "table2 = COG_df.drop_duplicates(subset=(\"Genus\"))[[\n",
    "    \"Genus\", \"2-means\", \"3-means\", \"4-means\"]].copy()\n",
    "\n",
    "\n",
    "table2.reset_index(inplace=True)\n",
    "reindex = list(table2[\"index\"])\n",
    "reindex = reindex[:7] + [65, 85, 90, 77]\n",
    "table2 = table2.set_index(\"index\").reindex(reindex[::-1])\n",
    "table2.set_index(\"Genus\", inplace=True)\n",
    "table2.to_csv(\"../data/tables/Table_2.csv\")"
   ]
  },
  {
   "cell_type": "code",
   "execution_count": null,
   "metadata": {},
   "outputs": [],
   "source": []
  }
 ],
 "metadata": {
  "kernelspec": {
   "display_name": "Python 3",
   "language": "python",
   "name": "python3"
  },
  "language_info": {
   "codemirror_mode": {
    "name": "ipython",
    "version": 3
   },
   "file_extension": ".py",
   "mimetype": "text/x-python",
   "name": "python",
   "nbconvert_exporter": "python",
   "pygments_lexer": "ipython3",
   "version": "3.7.6"
  }
 },
 "nbformat": 4,
 "nbformat_minor": 2
}
